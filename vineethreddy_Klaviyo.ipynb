{
 "cells": [
  {
   "cell_type": "code",
   "execution_count": 330,
   "metadata": {},
   "outputs": [],
   "source": [
    "#vineethreddy nalla\n",
    "#vineethreddynalla1@gmail.com"
   ]
  },
  {
   "cell_type": "code",
   "execution_count": 331,
   "metadata": {},
   "outputs": [],
   "source": [
    "import numpy as np\n",
    "import pandas as pd\n",
    "import matplotlib.pyplot as plt\n",
    "import seaborn as sns"
   ]
  },
  {
   "cell_type": "code",
   "execution_count": 332,
   "metadata": {},
   "outputs": [],
   "source": [
    "#load the dataset\n",
    "data = pd.read_csv(r'C:\\Users\\vinee\\OneDrive\\Desktop\\Fulltime\\Resume_2020\\datasets\\Screening\\screening_exercise_orders_v201810.csv')"
   ]
  },
  {
   "cell_type": "code",
   "execution_count": 333,
   "metadata": {},
   "outputs": [
    {
     "data": {
      "text/html": [
       "<div>\n",
       "<style scoped>\n",
       "    .dataframe tbody tr th:only-of-type {\n",
       "        vertical-align: middle;\n",
       "    }\n",
       "\n",
       "    .dataframe tbody tr th {\n",
       "        vertical-align: top;\n",
       "    }\n",
       "\n",
       "    .dataframe thead th {\n",
       "        text-align: right;\n",
       "    }\n",
       "</style>\n",
       "<table border=\"1\" class=\"dataframe\">\n",
       "  <thead>\n",
       "    <tr style=\"text-align: right;\">\n",
       "      <th></th>\n",
       "      <th>customer_id</th>\n",
       "      <th>gender</th>\n",
       "      <th>date</th>\n",
       "      <th>value</th>\n",
       "      <th>predicted_gender</th>\n",
       "    </tr>\n",
       "  </thead>\n",
       "  <tbody>\n",
       "    <tr>\n",
       "      <td>0</td>\n",
       "      <td>1000</td>\n",
       "      <td>0</td>\n",
       "      <td>1/1/2017 0:11</td>\n",
       "      <td>198.5</td>\n",
       "      <td>1</td>\n",
       "    </tr>\n",
       "    <tr>\n",
       "      <td>1</td>\n",
       "      <td>1001</td>\n",
       "      <td>0</td>\n",
       "      <td>1/1/2017 0:29</td>\n",
       "      <td>338.0</td>\n",
       "      <td>1</td>\n",
       "    </tr>\n",
       "    <tr>\n",
       "      <td>2</td>\n",
       "      <td>1002</td>\n",
       "      <td>1</td>\n",
       "      <td>1/1/2017 1:30</td>\n",
       "      <td>733.0</td>\n",
       "      <td>1</td>\n",
       "    </tr>\n",
       "    <tr>\n",
       "      <td>3</td>\n",
       "      <td>1003</td>\n",
       "      <td>1</td>\n",
       "      <td>1/1/2017 1:34</td>\n",
       "      <td>772.0</td>\n",
       "      <td>1</td>\n",
       "    </tr>\n",
       "    <tr>\n",
       "      <td>4</td>\n",
       "      <td>1004</td>\n",
       "      <td>0</td>\n",
       "      <td>1/1/2017 3:11</td>\n",
       "      <td>508.0</td>\n",
       "      <td>1</td>\n",
       "    </tr>\n",
       "  </tbody>\n",
       "</table>\n",
       "</div>"
      ],
      "text/plain": [
       "   customer_id  gender           date  value  predicted_gender\n",
       "0         1000       0  1/1/2017 0:11  198.5                 1\n",
       "1         1001       0  1/1/2017 0:29  338.0                 1\n",
       "2         1002       1  1/1/2017 1:30  733.0                 1\n",
       "3         1003       1  1/1/2017 1:34  772.0                 1\n",
       "4         1004       0  1/1/2017 3:11  508.0                 1"
      ]
     },
     "execution_count": 333,
     "metadata": {},
     "output_type": "execute_result"
    }
   ],
   "source": [
    "#first five rows in the dataset\n",
    "data.head()"
   ]
  },
  {
   "cell_type": "code",
   "execution_count": 334,
   "metadata": {},
   "outputs": [
    {
     "data": {
      "text/html": [
       "<div>\n",
       "<style scoped>\n",
       "    .dataframe tbody tr th:only-of-type {\n",
       "        vertical-align: middle;\n",
       "    }\n",
       "\n",
       "    .dataframe tbody tr th {\n",
       "        vertical-align: top;\n",
       "    }\n",
       "\n",
       "    .dataframe thead th {\n",
       "        text-align: right;\n",
       "    }\n",
       "</style>\n",
       "<table border=\"1\" class=\"dataframe\">\n",
       "  <thead>\n",
       "    <tr style=\"text-align: right;\">\n",
       "      <th></th>\n",
       "      <th>customer_id</th>\n",
       "      <th>gender</th>\n",
       "      <th>date</th>\n",
       "      <th>value</th>\n",
       "      <th>predicted_gender</th>\n",
       "    </tr>\n",
       "  </thead>\n",
       "  <tbody>\n",
       "    <tr>\n",
       "      <td>2</td>\n",
       "      <td>1002</td>\n",
       "      <td>1</td>\n",
       "      <td>1/1/2017 1:30</td>\n",
       "      <td>733.0</td>\n",
       "      <td>1</td>\n",
       "    </tr>\n",
       "    <tr>\n",
       "      <td>928</td>\n",
       "      <td>1002</td>\n",
       "      <td>1</td>\n",
       "      <td>1/23/2017 4:33</td>\n",
       "      <td>148.6</td>\n",
       "      <td>1</td>\n",
       "    </tr>\n",
       "    <tr>\n",
       "      <td>1742</td>\n",
       "      <td>1002</td>\n",
       "      <td>1</td>\n",
       "      <td>2/19/2017 21:35</td>\n",
       "      <td>176.0</td>\n",
       "      <td>1</td>\n",
       "    </tr>\n",
       "  </tbody>\n",
       "</table>\n",
       "</div>"
      ],
      "text/plain": [
       "      customer_id  gender             date  value  predicted_gender\n",
       "2            1002       1    1/1/2017 1:30  733.0                 1\n",
       "928          1002       1   1/23/2017 4:33  148.6                 1\n",
       "1742         1002       1  2/19/2017 21:35  176.0                 1"
      ]
     },
     "execution_count": 334,
     "metadata": {},
     "output_type": "execute_result"
    }
   ],
   "source": [
    "#checkin the multiple rows for customer_id 1002\n",
    "data[data['customer_id'] == 1002]"
   ]
  },
  {
   "cell_type": "code",
   "execution_count": 335,
   "metadata": {},
   "outputs": [],
   "source": [
    "#converting the date column from object to datetime column\n",
    "data['date'] = pd.to_datetime(data['date'])"
   ]
  },
  {
   "cell_type": "code",
   "execution_count": 336,
   "metadata": {},
   "outputs": [
    {
     "data": {
      "text/plain": [
       "customer_id                  int64\n",
       "gender                       int64\n",
       "date                datetime64[ns]\n",
       "value                      float64\n",
       "predicted_gender             int64\n",
       "dtype: object"
      ]
     },
     "execution_count": 336,
     "metadata": {},
     "output_type": "execute_result"
    }
   ],
   "source": [
    "#checking the datatypes of each column in the dataset\n",
    "data.dtypes"
   ]
  },
  {
   "cell_type": "code",
   "execution_count": 337,
   "metadata": {},
   "outputs": [],
   "source": [
    "# Assemble a dataframe with one row per customer and the following columns:\n",
    "# customer_id\n",
    "# gender\n",
    "# most_recent_order_date\n",
    "# order_count (number of orders placed by this customer) Sort the dataframe by customer_id ascending \n",
    "#and display the first 10 rows.\n",
    "\n",
    "# Answer: There were rows which were multiple transactions (orders) done by customer with different time stamps. \n",
    "# They had to be grouped by customer_id, order_count columns contains number of orders done and most_recent_order_date i.e.recent transaction time stamp of order is taken. \n",
    "# The dataframe is sorted in ascending order and only first 10 rows are displayed in this notebook."
   ]
  },
  {
   "cell_type": "code",
   "execution_count": 338,
   "metadata": {},
   "outputs": [
    {
     "data": {
      "text/plain": [
       "customer_id\n",
       "1000    1\n",
       "1001    1\n",
       "1002    3\n",
       "1003    4\n",
       "1004    1\n",
       "       ..\n",
       "9809    1\n",
       "9810    1\n",
       "9811    1\n",
       "9812    1\n",
       "9813    1\n",
       "Name: value, Length: 8814, dtype: int64"
      ]
     },
     "execution_count": 338,
     "metadata": {},
     "output_type": "execute_result"
    }
   ],
   "source": [
    "data.groupby('customer_id')['value'].count()"
   ]
  },
  {
   "cell_type": "code",
   "execution_count": 339,
   "metadata": {},
   "outputs": [],
   "source": [
    "#creating a new column for the orders made by each customer and storing the counts of the orders in the new column named order_count \n",
    "data['order_count'] = data.groupby('customer_id')['value'].transform('count')"
   ]
  },
  {
   "cell_type": "code",
   "execution_count": 340,
   "metadata": {},
   "outputs": [
    {
     "data": {
      "text/html": [
       "<div>\n",
       "<style scoped>\n",
       "    .dataframe tbody tr th:only-of-type {\n",
       "        vertical-align: middle;\n",
       "    }\n",
       "\n",
       "    .dataframe tbody tr th {\n",
       "        vertical-align: top;\n",
       "    }\n",
       "\n",
       "    .dataframe thead th {\n",
       "        text-align: right;\n",
       "    }\n",
       "</style>\n",
       "<table border=\"1\" class=\"dataframe\">\n",
       "  <thead>\n",
       "    <tr style=\"text-align: right;\">\n",
       "      <th></th>\n",
       "      <th>customer_id</th>\n",
       "      <th>gender</th>\n",
       "      <th>date</th>\n",
       "      <th>value</th>\n",
       "      <th>predicted_gender</th>\n",
       "      <th>order_count</th>\n",
       "    </tr>\n",
       "  </thead>\n",
       "  <tbody>\n",
       "    <tr>\n",
       "      <td>0</td>\n",
       "      <td>1000</td>\n",
       "      <td>0</td>\n",
       "      <td>2017-01-01 00:11:00</td>\n",
       "      <td>198.5</td>\n",
       "      <td>1</td>\n",
       "      <td>1</td>\n",
       "    </tr>\n",
       "    <tr>\n",
       "      <td>1</td>\n",
       "      <td>1001</td>\n",
       "      <td>0</td>\n",
       "      <td>2017-01-01 00:29:00</td>\n",
       "      <td>338.0</td>\n",
       "      <td>1</td>\n",
       "      <td>1</td>\n",
       "    </tr>\n",
       "    <tr>\n",
       "      <td>2</td>\n",
       "      <td>1002</td>\n",
       "      <td>1</td>\n",
       "      <td>2017-01-01 01:30:00</td>\n",
       "      <td>733.0</td>\n",
       "      <td>1</td>\n",
       "      <td>3</td>\n",
       "    </tr>\n",
       "    <tr>\n",
       "      <td>3</td>\n",
       "      <td>1003</td>\n",
       "      <td>1</td>\n",
       "      <td>2017-01-01 01:34:00</td>\n",
       "      <td>772.0</td>\n",
       "      <td>1</td>\n",
       "      <td>4</td>\n",
       "    </tr>\n",
       "    <tr>\n",
       "      <td>4</td>\n",
       "      <td>1004</td>\n",
       "      <td>0</td>\n",
       "      <td>2017-01-01 03:11:00</td>\n",
       "      <td>508.0</td>\n",
       "      <td>1</td>\n",
       "      <td>1</td>\n",
       "    </tr>\n",
       "  </tbody>\n",
       "</table>\n",
       "</div>"
      ],
      "text/plain": [
       "   customer_id  gender                date  value  predicted_gender  \\\n",
       "0         1000       0 2017-01-01 00:11:00  198.5                 1   \n",
       "1         1001       0 2017-01-01 00:29:00  338.0                 1   \n",
       "2         1002       1 2017-01-01 01:30:00  733.0                 1   \n",
       "3         1003       1 2017-01-01 01:34:00  772.0                 1   \n",
       "4         1004       0 2017-01-01 03:11:00  508.0                 1   \n",
       "\n",
       "   order_count  \n",
       "0            1  \n",
       "1            1  \n",
       "2            3  \n",
       "3            4  \n",
       "4            1  "
      ]
     },
     "execution_count": 340,
     "metadata": {},
     "output_type": "execute_result"
    }
   ],
   "source": [
    "data.head()\n",
    "#clearly we can see a new column created for the order counts"
   ]
  },
  {
   "cell_type": "code",
   "execution_count": 341,
   "metadata": {},
   "outputs": [],
   "source": [
    "#creating the new column for the most recent purchase made by the each customer in the year 2017 and storing the recent date in the new column named recent_date\n",
    "data['recent_date'] = data.groupby('customer_id')['date'].transform('max')"
   ]
  },
  {
   "cell_type": "code",
   "execution_count": 342,
   "metadata": {},
   "outputs": [
    {
     "data": {
      "text/html": [
       "<div>\n",
       "<style scoped>\n",
       "    .dataframe tbody tr th:only-of-type {\n",
       "        vertical-align: middle;\n",
       "    }\n",
       "\n",
       "    .dataframe tbody tr th {\n",
       "        vertical-align: top;\n",
       "    }\n",
       "\n",
       "    .dataframe thead th {\n",
       "        text-align: right;\n",
       "    }\n",
       "</style>\n",
       "<table border=\"1\" class=\"dataframe\">\n",
       "  <thead>\n",
       "    <tr style=\"text-align: right;\">\n",
       "      <th></th>\n",
       "      <th>customer_id</th>\n",
       "      <th>gender</th>\n",
       "      <th>date</th>\n",
       "      <th>value</th>\n",
       "      <th>predicted_gender</th>\n",
       "      <th>order_count</th>\n",
       "      <th>recent_date</th>\n",
       "    </tr>\n",
       "  </thead>\n",
       "  <tbody>\n",
       "    <tr>\n",
       "      <td>0</td>\n",
       "      <td>1000</td>\n",
       "      <td>0</td>\n",
       "      <td>2017-01-01 00:11:00</td>\n",
       "      <td>198.5</td>\n",
       "      <td>1</td>\n",
       "      <td>1</td>\n",
       "      <td>2017-01-01 00:11:00</td>\n",
       "    </tr>\n",
       "    <tr>\n",
       "      <td>1</td>\n",
       "      <td>1001</td>\n",
       "      <td>0</td>\n",
       "      <td>2017-01-01 00:29:00</td>\n",
       "      <td>338.0</td>\n",
       "      <td>1</td>\n",
       "      <td>1</td>\n",
       "      <td>2017-01-01 00:29:00</td>\n",
       "    </tr>\n",
       "    <tr>\n",
       "      <td>2</td>\n",
       "      <td>1002</td>\n",
       "      <td>1</td>\n",
       "      <td>2017-01-01 01:30:00</td>\n",
       "      <td>733.0</td>\n",
       "      <td>1</td>\n",
       "      <td>3</td>\n",
       "      <td>2017-02-19 21:35:00</td>\n",
       "    </tr>\n",
       "    <tr>\n",
       "      <td>3</td>\n",
       "      <td>1003</td>\n",
       "      <td>1</td>\n",
       "      <td>2017-01-01 01:34:00</td>\n",
       "      <td>772.0</td>\n",
       "      <td>1</td>\n",
       "      <td>4</td>\n",
       "      <td>2017-04-26 02:37:00</td>\n",
       "    </tr>\n",
       "    <tr>\n",
       "      <td>4</td>\n",
       "      <td>1004</td>\n",
       "      <td>0</td>\n",
       "      <td>2017-01-01 03:11:00</td>\n",
       "      <td>508.0</td>\n",
       "      <td>1</td>\n",
       "      <td>1</td>\n",
       "      <td>2017-01-01 03:11:00</td>\n",
       "    </tr>\n",
       "  </tbody>\n",
       "</table>\n",
       "</div>"
      ],
      "text/plain": [
       "   customer_id  gender                date  value  predicted_gender  \\\n",
       "0         1000       0 2017-01-01 00:11:00  198.5                 1   \n",
       "1         1001       0 2017-01-01 00:29:00  338.0                 1   \n",
       "2         1002       1 2017-01-01 01:30:00  733.0                 1   \n",
       "3         1003       1 2017-01-01 01:34:00  772.0                 1   \n",
       "4         1004       0 2017-01-01 03:11:00  508.0                 1   \n",
       "\n",
       "   order_count         recent_date  \n",
       "0            1 2017-01-01 00:11:00  \n",
       "1            1 2017-01-01 00:29:00  \n",
       "2            3 2017-02-19 21:35:00  \n",
       "3            4 2017-04-26 02:37:00  \n",
       "4            1 2017-01-01 03:11:00  "
      ]
     },
     "execution_count": 342,
     "metadata": {},
     "output_type": "execute_result"
    }
   ],
   "source": [
    "data.head()\n",
    "#clearly we can see new column is been created and most recent purchase of each customer is stored in the recent_date column"
   ]
  },
  {
   "cell_type": "code",
   "execution_count": 343,
   "metadata": {},
   "outputs": [],
   "source": [
    "#creating a new dataframe with the columns mentioned in the question i.e 'customer_id','gender','recent_date','order_count'\n",
    "data1 = data[['customer_id','gender','recent_date','order_count']]"
   ]
  },
  {
   "cell_type": "code",
   "execution_count": 344,
   "metadata": {},
   "outputs": [],
   "source": [
    "#sorting the dataframe by customer_id in ascending order\n",
    "dat1 = data1.sort_values(by='customer_id')"
   ]
  },
  {
   "cell_type": "code",
   "execution_count": 345,
   "metadata": {},
   "outputs": [],
   "source": [
    "#drop off duplicates so that each customer has one row\n",
    "data2 = data1.drop_duplicates()"
   ]
  },
  {
   "cell_type": "code",
   "execution_count": 346,
   "metadata": {},
   "outputs": [],
   "source": [
    "#select the first 10 rows of customer order count\n",
    "top10customerordercount = data2.head(10)"
   ]
  },
  {
   "cell_type": "code",
   "execution_count": 347,
   "metadata": {},
   "outputs": [
    {
     "data": {
      "text/html": [
       "<div>\n",
       "<style scoped>\n",
       "    .dataframe tbody tr th:only-of-type {\n",
       "        vertical-align: middle;\n",
       "    }\n",
       "\n",
       "    .dataframe tbody tr th {\n",
       "        vertical-align: top;\n",
       "    }\n",
       "\n",
       "    .dataframe thead th {\n",
       "        text-align: right;\n",
       "    }\n",
       "</style>\n",
       "<table border=\"1\" class=\"dataframe\">\n",
       "  <thead>\n",
       "    <tr style=\"text-align: right;\">\n",
       "      <th></th>\n",
       "      <th>customer_id</th>\n",
       "      <th>gender</th>\n",
       "      <th>recent_date</th>\n",
       "      <th>order_count</th>\n",
       "    </tr>\n",
       "  </thead>\n",
       "  <tbody>\n",
       "    <tr>\n",
       "      <td>0</td>\n",
       "      <td>1000</td>\n",
       "      <td>0</td>\n",
       "      <td>2017-01-01 00:11:00</td>\n",
       "      <td>1</td>\n",
       "    </tr>\n",
       "    <tr>\n",
       "      <td>1</td>\n",
       "      <td>1001</td>\n",
       "      <td>0</td>\n",
       "      <td>2017-01-01 00:29:00</td>\n",
       "      <td>1</td>\n",
       "    </tr>\n",
       "    <tr>\n",
       "      <td>2</td>\n",
       "      <td>1002</td>\n",
       "      <td>1</td>\n",
       "      <td>2017-02-19 21:35:00</td>\n",
       "      <td>3</td>\n",
       "    </tr>\n",
       "    <tr>\n",
       "      <td>3</td>\n",
       "      <td>1003</td>\n",
       "      <td>1</td>\n",
       "      <td>2017-04-26 02:37:00</td>\n",
       "      <td>4</td>\n",
       "    </tr>\n",
       "    <tr>\n",
       "      <td>4</td>\n",
       "      <td>1004</td>\n",
       "      <td>0</td>\n",
       "      <td>2017-01-01 03:11:00</td>\n",
       "      <td>1</td>\n",
       "    </tr>\n",
       "    <tr>\n",
       "      <td>5</td>\n",
       "      <td>1005</td>\n",
       "      <td>1</td>\n",
       "      <td>2017-12-16 01:39:00</td>\n",
       "      <td>2</td>\n",
       "    </tr>\n",
       "    <tr>\n",
       "      <td>6</td>\n",
       "      <td>1006</td>\n",
       "      <td>1</td>\n",
       "      <td>2017-05-09 15:27:00</td>\n",
       "      <td>3</td>\n",
       "    </tr>\n",
       "    <tr>\n",
       "      <td>7</td>\n",
       "      <td>1007</td>\n",
       "      <td>0</td>\n",
       "      <td>2017-01-01 15:59:00</td>\n",
       "      <td>1</td>\n",
       "    </tr>\n",
       "    <tr>\n",
       "      <td>8</td>\n",
       "      <td>1008</td>\n",
       "      <td>0</td>\n",
       "      <td>2017-12-17 05:47:00</td>\n",
       "      <td>3</td>\n",
       "    </tr>\n",
       "    <tr>\n",
       "      <td>9</td>\n",
       "      <td>1009</td>\n",
       "      <td>1</td>\n",
       "      <td>2017-01-01 19:27:00</td>\n",
       "      <td>1</td>\n",
       "    </tr>\n",
       "  </tbody>\n",
       "</table>\n",
       "</div>"
      ],
      "text/plain": [
       "   customer_id  gender         recent_date  order_count\n",
       "0         1000       0 2017-01-01 00:11:00            1\n",
       "1         1001       0 2017-01-01 00:29:00            1\n",
       "2         1002       1 2017-02-19 21:35:00            3\n",
       "3         1003       1 2017-04-26 02:37:00            4\n",
       "4         1004       0 2017-01-01 03:11:00            1\n",
       "5         1005       1 2017-12-16 01:39:00            2\n",
       "6         1006       1 2017-05-09 15:27:00            3\n",
       "7         1007       0 2017-01-01 15:59:00            1\n",
       "8         1008       0 2017-12-17 05:47:00            3\n",
       "9         1009       1 2017-01-01 19:27:00            1"
      ]
     },
     "execution_count": 347,
     "metadata": {},
     "output_type": "execute_result"
    }
   ],
   "source": [
    "top10customerordercount"
   ]
  },
  {
   "cell_type": "code",
   "execution_count": 348,
   "metadata": {},
   "outputs": [],
   "source": [
    "#question 2\n",
    "# Plot the count of orders per week for the store.\n",
    "# Answer: There are 52 weeks in a year. Thus, data[date] is mutated by week number. \n",
    "#The orders are summarized count and a line plot (visually appealing) is created"
   ]
  },
  {
   "cell_type": "code",
   "execution_count": 349,
   "metadata": {},
   "outputs": [
    {
     "data": {
      "text/html": [
       "<div>\n",
       "<style scoped>\n",
       "    .dataframe tbody tr th:only-of-type {\n",
       "        vertical-align: middle;\n",
       "    }\n",
       "\n",
       "    .dataframe tbody tr th {\n",
       "        vertical-align: top;\n",
       "    }\n",
       "\n",
       "    .dataframe thead th {\n",
       "        text-align: right;\n",
       "    }\n",
       "</style>\n",
       "<table border=\"1\" class=\"dataframe\">\n",
       "  <thead>\n",
       "    <tr style=\"text-align: right;\">\n",
       "      <th></th>\n",
       "      <th>customer_id</th>\n",
       "      <th>gender</th>\n",
       "      <th>date</th>\n",
       "      <th>value</th>\n",
       "      <th>predicted_gender</th>\n",
       "      <th>order_count</th>\n",
       "      <th>recent_date</th>\n",
       "    </tr>\n",
       "  </thead>\n",
       "  <tbody>\n",
       "    <tr>\n",
       "      <td>0</td>\n",
       "      <td>1000</td>\n",
       "      <td>0</td>\n",
       "      <td>2017-01-01 00:11:00</td>\n",
       "      <td>198.50</td>\n",
       "      <td>1</td>\n",
       "      <td>1</td>\n",
       "      <td>2017-01-01 00:11:00</td>\n",
       "    </tr>\n",
       "    <tr>\n",
       "      <td>1</td>\n",
       "      <td>1001</td>\n",
       "      <td>0</td>\n",
       "      <td>2017-01-01 00:29:00</td>\n",
       "      <td>338.00</td>\n",
       "      <td>1</td>\n",
       "      <td>1</td>\n",
       "      <td>2017-01-01 00:29:00</td>\n",
       "    </tr>\n",
       "    <tr>\n",
       "      <td>2</td>\n",
       "      <td>1002</td>\n",
       "      <td>1</td>\n",
       "      <td>2017-01-01 01:30:00</td>\n",
       "      <td>733.00</td>\n",
       "      <td>1</td>\n",
       "      <td>3</td>\n",
       "      <td>2017-02-19 21:35:00</td>\n",
       "    </tr>\n",
       "    <tr>\n",
       "      <td>3</td>\n",
       "      <td>1003</td>\n",
       "      <td>1</td>\n",
       "      <td>2017-01-01 01:34:00</td>\n",
       "      <td>772.00</td>\n",
       "      <td>1</td>\n",
       "      <td>4</td>\n",
       "      <td>2017-04-26 02:37:00</td>\n",
       "    </tr>\n",
       "    <tr>\n",
       "      <td>4</td>\n",
       "      <td>1004</td>\n",
       "      <td>0</td>\n",
       "      <td>2017-01-01 03:11:00</td>\n",
       "      <td>508.00</td>\n",
       "      <td>1</td>\n",
       "      <td>1</td>\n",
       "      <td>2017-01-01 03:11:00</td>\n",
       "    </tr>\n",
       "    <tr>\n",
       "      <td>...</td>\n",
       "      <td>...</td>\n",
       "      <td>...</td>\n",
       "      <td>...</td>\n",
       "      <td>...</td>\n",
       "      <td>...</td>\n",
       "      <td>...</td>\n",
       "      <td>...</td>\n",
       "    </tr>\n",
       "    <tr>\n",
       "      <td>13466</td>\n",
       "      <td>9810</td>\n",
       "      <td>1</td>\n",
       "      <td>2017-12-31 22:16:00</td>\n",
       "      <td>794.44</td>\n",
       "      <td>0</td>\n",
       "      <td>1</td>\n",
       "      <td>2017-12-31 22:16:00</td>\n",
       "    </tr>\n",
       "    <tr>\n",
       "      <td>13467</td>\n",
       "      <td>9811</td>\n",
       "      <td>1</td>\n",
       "      <td>2017-12-31 22:24:00</td>\n",
       "      <td>148.60</td>\n",
       "      <td>0</td>\n",
       "      <td>1</td>\n",
       "      <td>2017-12-31 22:24:00</td>\n",
       "    </tr>\n",
       "    <tr>\n",
       "      <td>13468</td>\n",
       "      <td>9812</td>\n",
       "      <td>0</td>\n",
       "      <td>2017-12-31 23:01:00</td>\n",
       "      <td>153.00</td>\n",
       "      <td>1</td>\n",
       "      <td>1</td>\n",
       "      <td>2017-12-31 23:01:00</td>\n",
       "    </tr>\n",
       "    <tr>\n",
       "      <td>13469</td>\n",
       "      <td>9813</td>\n",
       "      <td>0</td>\n",
       "      <td>2017-12-31 23:11:00</td>\n",
       "      <td>534.00</td>\n",
       "      <td>1</td>\n",
       "      <td>1</td>\n",
       "      <td>2017-12-31 23:11:00</td>\n",
       "    </tr>\n",
       "    <tr>\n",
       "      <td>13470</td>\n",
       "      <td>8658</td>\n",
       "      <td>0</td>\n",
       "      <td>2017-12-31 23:35:00</td>\n",
       "      <td>306.60</td>\n",
       "      <td>1</td>\n",
       "      <td>2</td>\n",
       "      <td>2017-12-31 23:35:00</td>\n",
       "    </tr>\n",
       "  </tbody>\n",
       "</table>\n",
       "<p>13471 rows × 7 columns</p>\n",
       "</div>"
      ],
      "text/plain": [
       "       customer_id  gender                date   value  predicted_gender  \\\n",
       "0             1000       0 2017-01-01 00:11:00  198.50                 1   \n",
       "1             1001       0 2017-01-01 00:29:00  338.00                 1   \n",
       "2             1002       1 2017-01-01 01:30:00  733.00                 1   \n",
       "3             1003       1 2017-01-01 01:34:00  772.00                 1   \n",
       "4             1004       0 2017-01-01 03:11:00  508.00                 1   \n",
       "...            ...     ...                 ...     ...               ...   \n",
       "13466         9810       1 2017-12-31 22:16:00  794.44                 0   \n",
       "13467         9811       1 2017-12-31 22:24:00  148.60                 0   \n",
       "13468         9812       0 2017-12-31 23:01:00  153.00                 1   \n",
       "13469         9813       0 2017-12-31 23:11:00  534.00                 1   \n",
       "13470         8658       0 2017-12-31 23:35:00  306.60                 1   \n",
       "\n",
       "       order_count         recent_date  \n",
       "0                1 2017-01-01 00:11:00  \n",
       "1                1 2017-01-01 00:29:00  \n",
       "2                3 2017-02-19 21:35:00  \n",
       "3                4 2017-04-26 02:37:00  \n",
       "4                1 2017-01-01 03:11:00  \n",
       "...            ...                 ...  \n",
       "13466            1 2017-12-31 22:16:00  \n",
       "13467            1 2017-12-31 22:24:00  \n",
       "13468            1 2017-12-31 23:01:00  \n",
       "13469            1 2017-12-31 23:11:00  \n",
       "13470            2 2017-12-31 23:35:00  \n",
       "\n",
       "[13471 rows x 7 columns]"
      ]
     },
     "execution_count": 349,
     "metadata": {},
     "output_type": "execute_result"
    }
   ],
   "source": [
    "data"
   ]
  },
  {
   "cell_type": "code",
   "execution_count": 350,
   "metadata": {},
   "outputs": [],
   "source": [
    "#aggregating the orders weekly\n",
    "ordersperweek = data.groupby(data.date.dt.week).size()"
   ]
  },
  {
   "cell_type": "code",
   "execution_count": 351,
   "metadata": {},
   "outputs": [
    {
     "data": {
      "text/plain": [
       "date\n",
       "1    180\n",
       "2    264\n",
       "3    405\n",
       "4    233\n",
       "5    211\n",
       "dtype: int64"
      ]
     },
     "execution_count": 351,
     "metadata": {},
     "output_type": "execute_result"
    }
   ],
   "source": [
    "#clearly we can see the no of orders in first five weeks\n",
    "ordersperweek.head()"
   ]
  },
  {
   "cell_type": "code",
   "execution_count": 352,
   "metadata": {},
   "outputs": [
    {
     "data": {
      "image/png": "[encoded data removed]",
      "text/plain": [
       "<Figure size 432x288 with 1 Axes>"
      ]
     },
     "metadata": {
      "needs_background": "light"
     },
     "output_type": "display_data"
    }
   ],
   "source": [
    "#plotting line graph to see how the orders are being varied weekly.\n",
    "ax = ordersperweek.plot(label = 'count of orders')\n",
    "ax.set_xlabel('week_of_the_year')\n",
    "ax.set_ylabel('no_of_orders_per_week')\n",
    "ax.set_title('orders per week of 2017')\n",
    "plt.legend()\n",
    "plt.show()\n",
    "#from the below graph we can see that highest no of orders are in the week 20 and lowest no of orders are in the week 43\n",
    "#on the whole the graph is a roller coaster"
   ]
  },
  {
   "cell_type": "code",
   "execution_count": 353,
   "metadata": {},
   "outputs": [],
   "source": [
    "#Question 3\n",
    "# Compute the mean order value for gender 0 and for gender 1. Do you think the difference is significant?\n",
    "\n",
    "#null hypothesis : mean Difference between gender0 and gender1 is not significant\n",
    "#Alternative hypothesis : mean difference between gender0 and gender1 is significant\n",
    "\n",
    "# Answer: The mean order values for gender=0 and gender=1 are 363.89 & 350.70 respectively.\n",
    "# To see if the difference is significant, I have performed t-testing/null hypothesis to check for p-value with 95% confidence.\n",
    "# Meaning alpha(threshold) = 0.05. We can see from the results that p-value = 0.04816 lesser than 0.05 i.e. threshold value. \n",
    "# Therefore, with 95% confidence I can reject this null hypothesis meaning, the difference is not significant"
   ]
  },
  {
   "cell_type": "code",
   "execution_count": 354,
   "metadata": {},
   "outputs": [],
   "source": [
    "#checking the data for gender0\n",
    "gender0 = data[data['gender']==0]"
   ]
  },
  {
   "cell_type": "code",
   "execution_count": 355,
   "metadata": {},
   "outputs": [
    {
     "data": {
      "text/html": [
       "<div>\n",
       "<style scoped>\n",
       "    .dataframe tbody tr th:only-of-type {\n",
       "        vertical-align: middle;\n",
       "    }\n",
       "\n",
       "    .dataframe tbody tr th {\n",
       "        vertical-align: top;\n",
       "    }\n",
       "\n",
       "    .dataframe thead th {\n",
       "        text-align: right;\n",
       "    }\n",
       "</style>\n",
       "<table border=\"1\" class=\"dataframe\">\n",
       "  <thead>\n",
       "    <tr style=\"text-align: right;\">\n",
       "      <th></th>\n",
       "      <th>customer_id</th>\n",
       "      <th>gender</th>\n",
       "      <th>date</th>\n",
       "      <th>value</th>\n",
       "      <th>predicted_gender</th>\n",
       "      <th>order_count</th>\n",
       "      <th>recent_date</th>\n",
       "    </tr>\n",
       "  </thead>\n",
       "  <tbody>\n",
       "    <tr>\n",
       "      <td>0</td>\n",
       "      <td>1000</td>\n",
       "      <td>0</td>\n",
       "      <td>2017-01-01 00:11:00</td>\n",
       "      <td>198.50</td>\n",
       "      <td>1</td>\n",
       "      <td>1</td>\n",
       "      <td>2017-01-01 00:11:00</td>\n",
       "    </tr>\n",
       "    <tr>\n",
       "      <td>1</td>\n",
       "      <td>1001</td>\n",
       "      <td>0</td>\n",
       "      <td>2017-01-01 00:29:00</td>\n",
       "      <td>338.00</td>\n",
       "      <td>1</td>\n",
       "      <td>1</td>\n",
       "      <td>2017-01-01 00:29:00</td>\n",
       "    </tr>\n",
       "    <tr>\n",
       "      <td>4</td>\n",
       "      <td>1004</td>\n",
       "      <td>0</td>\n",
       "      <td>2017-01-01 03:11:00</td>\n",
       "      <td>508.00</td>\n",
       "      <td>1</td>\n",
       "      <td>1</td>\n",
       "      <td>2017-01-01 03:11:00</td>\n",
       "    </tr>\n",
       "    <tr>\n",
       "      <td>7</td>\n",
       "      <td>1007</td>\n",
       "      <td>0</td>\n",
       "      <td>2017-01-01 15:59:00</td>\n",
       "      <td>168.00</td>\n",
       "      <td>0</td>\n",
       "      <td>1</td>\n",
       "      <td>2017-01-01 15:59:00</td>\n",
       "    </tr>\n",
       "    <tr>\n",
       "      <td>8</td>\n",
       "      <td>1008</td>\n",
       "      <td>0</td>\n",
       "      <td>2017-01-01 18:01:00</td>\n",
       "      <td>207.99</td>\n",
       "      <td>0</td>\n",
       "      <td>3</td>\n",
       "      <td>2017-12-17 05:47:00</td>\n",
       "    </tr>\n",
       "  </tbody>\n",
       "</table>\n",
       "</div>"
      ],
      "text/plain": [
       "   customer_id  gender                date   value  predicted_gender  \\\n",
       "0         1000       0 2017-01-01 00:11:00  198.50                 1   \n",
       "1         1001       0 2017-01-01 00:29:00  338.00                 1   \n",
       "4         1004       0 2017-01-01 03:11:00  508.00                 1   \n",
       "7         1007       0 2017-01-01 15:59:00  168.00                 0   \n",
       "8         1008       0 2017-01-01 18:01:00  207.99                 0   \n",
       "\n",
       "   order_count         recent_date  \n",
       "0            1 2017-01-01 00:11:00  \n",
       "1            1 2017-01-01 00:29:00  \n",
       "4            1 2017-01-01 03:11:00  \n",
       "7            1 2017-01-01 15:59:00  \n",
       "8            3 2017-12-17 05:47:00  "
      ]
     },
     "execution_count": 355,
     "metadata": {},
     "output_type": "execute_result"
    }
   ],
   "source": [
    "#first five rows of gender0\n",
    "gender0.head()"
   ]
  },
  {
   "cell_type": "code",
   "execution_count": 356,
   "metadata": {},
   "outputs": [
    {
     "data": {
      "text/plain": [
       "363.89000591803506"
      ]
     },
     "execution_count": 356,
     "metadata": {},
     "output_type": "execute_result"
    }
   ],
   "source": [
    "#mean value for the gender0\n",
    "gender0['value'].mean()"
   ]
  },
  {
   "cell_type": "code",
   "execution_count": 357,
   "metadata": {},
   "outputs": [
    {
     "data": {
      "text/plain": [
       "157238.590727078"
      ]
     },
     "execution_count": 357,
     "metadata": {},
     "output_type": "execute_result"
    }
   ],
   "source": [
    "#variance for the gender0\n",
    "gender0['value'].var()"
   ]
  },
  {
   "cell_type": "code",
   "execution_count": 358,
   "metadata": {},
   "outputs": [],
   "source": [
    "#checking the data for the gender1\n",
    "gender1 = data[data['gender']==1]"
   ]
  },
  {
   "cell_type": "code",
   "execution_count": 359,
   "metadata": {},
   "outputs": [
    {
     "data": {
      "text/html": [
       "<div>\n",
       "<style scoped>\n",
       "    .dataframe tbody tr th:only-of-type {\n",
       "        vertical-align: middle;\n",
       "    }\n",
       "\n",
       "    .dataframe tbody tr th {\n",
       "        vertical-align: top;\n",
       "    }\n",
       "\n",
       "    .dataframe thead th {\n",
       "        text-align: right;\n",
       "    }\n",
       "</style>\n",
       "<table border=\"1\" class=\"dataframe\">\n",
       "  <thead>\n",
       "    <tr style=\"text-align: right;\">\n",
       "      <th></th>\n",
       "      <th>customer_id</th>\n",
       "      <th>gender</th>\n",
       "      <th>date</th>\n",
       "      <th>value</th>\n",
       "      <th>predicted_gender</th>\n",
       "      <th>order_count</th>\n",
       "      <th>recent_date</th>\n",
       "    </tr>\n",
       "  </thead>\n",
       "  <tbody>\n",
       "    <tr>\n",
       "      <td>2</td>\n",
       "      <td>1002</td>\n",
       "      <td>1</td>\n",
       "      <td>2017-01-01 01:30:00</td>\n",
       "      <td>733.00</td>\n",
       "      <td>1</td>\n",
       "      <td>3</td>\n",
       "      <td>2017-02-19 21:35:00</td>\n",
       "    </tr>\n",
       "    <tr>\n",
       "      <td>3</td>\n",
       "      <td>1003</td>\n",
       "      <td>1</td>\n",
       "      <td>2017-01-01 01:34:00</td>\n",
       "      <td>772.00</td>\n",
       "      <td>1</td>\n",
       "      <td>4</td>\n",
       "      <td>2017-04-26 02:37:00</td>\n",
       "    </tr>\n",
       "    <tr>\n",
       "      <td>5</td>\n",
       "      <td>1005</td>\n",
       "      <td>1</td>\n",
       "      <td>2017-01-01 10:08:00</td>\n",
       "      <td>338.00</td>\n",
       "      <td>0</td>\n",
       "      <td>2</td>\n",
       "      <td>2017-12-16 01:39:00</td>\n",
       "    </tr>\n",
       "    <tr>\n",
       "      <td>6</td>\n",
       "      <td>1006</td>\n",
       "      <td>1</td>\n",
       "      <td>2017-01-01 15:42:00</td>\n",
       "      <td>1526.43</td>\n",
       "      <td>1</td>\n",
       "      <td>3</td>\n",
       "      <td>2017-05-09 15:27:00</td>\n",
       "    </tr>\n",
       "    <tr>\n",
       "      <td>9</td>\n",
       "      <td>1009</td>\n",
       "      <td>1</td>\n",
       "      <td>2017-01-01 19:27:00</td>\n",
       "      <td>283.00</td>\n",
       "      <td>1</td>\n",
       "      <td>1</td>\n",
       "      <td>2017-01-01 19:27:00</td>\n",
       "    </tr>\n",
       "  </tbody>\n",
       "</table>\n",
       "</div>"
      ],
      "text/plain": [
       "   customer_id  gender                date    value  predicted_gender  \\\n",
       "2         1002       1 2017-01-01 01:30:00   733.00                 1   \n",
       "3         1003       1 2017-01-01 01:34:00   772.00                 1   \n",
       "5         1005       1 2017-01-01 10:08:00   338.00                 0   \n",
       "6         1006       1 2017-01-01 15:42:00  1526.43                 1   \n",
       "9         1009       1 2017-01-01 19:27:00   283.00                 1   \n",
       "\n",
       "   order_count         recent_date  \n",
       "2            3 2017-02-19 21:35:00  \n",
       "3            4 2017-04-26 02:37:00  \n",
       "5            2 2017-12-16 01:39:00  \n",
       "6            3 2017-05-09 15:27:00  \n",
       "9            1 2017-01-01 19:27:00  "
      ]
     },
     "execution_count": 359,
     "metadata": {},
     "output_type": "execute_result"
    }
   ],
   "source": [
    "#first five rows for the gender1\n",
    "gender1.head()"
   ]
  },
  {
   "cell_type": "code",
   "execution_count": 360,
   "metadata": {},
   "outputs": [
    {
     "data": {
      "text/plain": [
       "350.70836114422"
      ]
     },
     "execution_count": 360,
     "metadata": {},
     "output_type": "execute_result"
    }
   ],
   "source": [
    "#mean value for the gender1\n",
    "gender1['value'].mean()"
   ]
  },
  {
   "cell_type": "code",
   "execution_count": 361,
   "metadata": {},
   "outputs": [
    {
     "data": {
      "text/plain": [
       "142509.8268249081"
      ]
     },
     "execution_count": 361,
     "metadata": {},
     "output_type": "execute_result"
    }
   ],
   "source": [
    "#varinace for the gender1\n",
    "gender1['value'].var()"
   ]
  },
  {
   "cell_type": "code",
   "execution_count": 362,
   "metadata": {},
   "outputs": [],
   "source": [
    "from scipy import stats"
   ]
  },
  {
   "cell_type": "code",
   "execution_count": 363,
   "metadata": {},
   "outputs": [
    {
     "data": {
      "text/plain": [
       "Ttest_indResult(statistic=1.976107933576866, pvalue=0.04816296295128402)"
      ]
     },
     "execution_count": 363,
     "metadata": {},
     "output_type": "execute_result"
    }
   ],
   "source": [
    "#applying the welch's t_test because there is difference in variance\n",
    "stats.ttest_ind(gender0['value'], gender1['value'], equal_var = False)"
   ]
  },
  {
   "cell_type": "code",
   "execution_count": 364,
   "metadata": {},
   "outputs": [],
   "source": [
    "#from the above results we see that pvalue is 0.048 which is less than threshold value(alpha) 0.05 so we reject the null hypothesis."
   ]
  },
  {
   "cell_type": "code",
   "execution_count": 365,
   "metadata": {},
   "outputs": [],
   "source": [
    "# Results \n",
    "##  Welch Two Sample t-test\n",
    "## \n",
    "## data:  gender0['value'] and gender1['value]\n",
    "## t = 1.9761, p-value = 0.04816\n",
    "## alternative hypothesis: true difference in means is not equal to 0\n",
    "## sample estimates:\n",
    "## mean of gender0 mean of gender1 \n",
    "##  363.8900        350.7084"
   ]
  },
  {
   "cell_type": "code",
   "execution_count": 366,
   "metadata": {},
   "outputs": [
    {
     "data": {
      "text/html": [
       "<div>\n",
       "<style scoped>\n",
       "    .dataframe tbody tr th:only-of-type {\n",
       "        vertical-align: middle;\n",
       "    }\n",
       "\n",
       "    .dataframe tbody tr th {\n",
       "        vertical-align: top;\n",
       "    }\n",
       "\n",
       "    .dataframe thead th {\n",
       "        text-align: right;\n",
       "    }\n",
       "</style>\n",
       "<table border=\"1\" class=\"dataframe\">\n",
       "  <thead>\n",
       "    <tr style=\"text-align: right;\">\n",
       "      <th></th>\n",
       "      <th>customer_id</th>\n",
       "      <th>gender</th>\n",
       "      <th>date</th>\n",
       "      <th>value</th>\n",
       "      <th>predicted_gender</th>\n",
       "      <th>order_count</th>\n",
       "      <th>recent_date</th>\n",
       "    </tr>\n",
       "  </thead>\n",
       "  <tbody>\n",
       "    <tr>\n",
       "      <td>0</td>\n",
       "      <td>1000</td>\n",
       "      <td>0</td>\n",
       "      <td>2017-01-01 00:11:00</td>\n",
       "      <td>198.50</td>\n",
       "      <td>1</td>\n",
       "      <td>1</td>\n",
       "      <td>2017-01-01 00:11:00</td>\n",
       "    </tr>\n",
       "    <tr>\n",
       "      <td>1</td>\n",
       "      <td>1001</td>\n",
       "      <td>0</td>\n",
       "      <td>2017-01-01 00:29:00</td>\n",
       "      <td>338.00</td>\n",
       "      <td>1</td>\n",
       "      <td>1</td>\n",
       "      <td>2017-01-01 00:29:00</td>\n",
       "    </tr>\n",
       "    <tr>\n",
       "      <td>2</td>\n",
       "      <td>1002</td>\n",
       "      <td>1</td>\n",
       "      <td>2017-01-01 01:30:00</td>\n",
       "      <td>733.00</td>\n",
       "      <td>1</td>\n",
       "      <td>3</td>\n",
       "      <td>2017-02-19 21:35:00</td>\n",
       "    </tr>\n",
       "    <tr>\n",
       "      <td>3</td>\n",
       "      <td>1003</td>\n",
       "      <td>1</td>\n",
       "      <td>2017-01-01 01:34:00</td>\n",
       "      <td>772.00</td>\n",
       "      <td>1</td>\n",
       "      <td>4</td>\n",
       "      <td>2017-04-26 02:37:00</td>\n",
       "    </tr>\n",
       "    <tr>\n",
       "      <td>4</td>\n",
       "      <td>1004</td>\n",
       "      <td>0</td>\n",
       "      <td>2017-01-01 03:11:00</td>\n",
       "      <td>508.00</td>\n",
       "      <td>1</td>\n",
       "      <td>1</td>\n",
       "      <td>2017-01-01 03:11:00</td>\n",
       "    </tr>\n",
       "    <tr>\n",
       "      <td>...</td>\n",
       "      <td>...</td>\n",
       "      <td>...</td>\n",
       "      <td>...</td>\n",
       "      <td>...</td>\n",
       "      <td>...</td>\n",
       "      <td>...</td>\n",
       "      <td>...</td>\n",
       "    </tr>\n",
       "    <tr>\n",
       "      <td>13466</td>\n",
       "      <td>9810</td>\n",
       "      <td>1</td>\n",
       "      <td>2017-12-31 22:16:00</td>\n",
       "      <td>794.44</td>\n",
       "      <td>0</td>\n",
       "      <td>1</td>\n",
       "      <td>2017-12-31 22:16:00</td>\n",
       "    </tr>\n",
       "    <tr>\n",
       "      <td>13467</td>\n",
       "      <td>9811</td>\n",
       "      <td>1</td>\n",
       "      <td>2017-12-31 22:24:00</td>\n",
       "      <td>148.60</td>\n",
       "      <td>0</td>\n",
       "      <td>1</td>\n",
       "      <td>2017-12-31 22:24:00</td>\n",
       "    </tr>\n",
       "    <tr>\n",
       "      <td>13468</td>\n",
       "      <td>9812</td>\n",
       "      <td>0</td>\n",
       "      <td>2017-12-31 23:01:00</td>\n",
       "      <td>153.00</td>\n",
       "      <td>1</td>\n",
       "      <td>1</td>\n",
       "      <td>2017-12-31 23:01:00</td>\n",
       "    </tr>\n",
       "    <tr>\n",
       "      <td>13469</td>\n",
       "      <td>9813</td>\n",
       "      <td>0</td>\n",
       "      <td>2017-12-31 23:11:00</td>\n",
       "      <td>534.00</td>\n",
       "      <td>1</td>\n",
       "      <td>1</td>\n",
       "      <td>2017-12-31 23:11:00</td>\n",
       "    </tr>\n",
       "    <tr>\n",
       "      <td>13470</td>\n",
       "      <td>8658</td>\n",
       "      <td>0</td>\n",
       "      <td>2017-12-31 23:35:00</td>\n",
       "      <td>306.60</td>\n",
       "      <td>1</td>\n",
       "      <td>2</td>\n",
       "      <td>2017-12-31 23:35:00</td>\n",
       "    </tr>\n",
       "  </tbody>\n",
       "</table>\n",
       "<p>13471 rows × 7 columns</p>\n",
       "</div>"
      ],
      "text/plain": [
       "       customer_id  gender                date   value  predicted_gender  \\\n",
       "0             1000       0 2017-01-01 00:11:00  198.50                 1   \n",
       "1             1001       0 2017-01-01 00:29:00  338.00                 1   \n",
       "2             1002       1 2017-01-01 01:30:00  733.00                 1   \n",
       "3             1003       1 2017-01-01 01:34:00  772.00                 1   \n",
       "4             1004       0 2017-01-01 03:11:00  508.00                 1   \n",
       "...            ...     ...                 ...     ...               ...   \n",
       "13466         9810       1 2017-12-31 22:16:00  794.44                 0   \n",
       "13467         9811       1 2017-12-31 22:24:00  148.60                 0   \n",
       "13468         9812       0 2017-12-31 23:01:00  153.00                 1   \n",
       "13469         9813       0 2017-12-31 23:11:00  534.00                 1   \n",
       "13470         8658       0 2017-12-31 23:35:00  306.60                 1   \n",
       "\n",
       "       order_count         recent_date  \n",
       "0                1 2017-01-01 00:11:00  \n",
       "1                1 2017-01-01 00:29:00  \n",
       "2                3 2017-02-19 21:35:00  \n",
       "3                4 2017-04-26 02:37:00  \n",
       "4                1 2017-01-01 03:11:00  \n",
       "...            ...                 ...  \n",
       "13466            1 2017-12-31 22:16:00  \n",
       "13467            1 2017-12-31 22:24:00  \n",
       "13468            1 2017-12-31 23:01:00  \n",
       "13469            1 2017-12-31 23:11:00  \n",
       "13470            2 2017-12-31 23:35:00  \n",
       "\n",
       "[13471 rows x 7 columns]"
      ]
     },
     "execution_count": 366,
     "metadata": {},
     "output_type": "execute_result"
    }
   ],
   "source": [
    "data"
   ]
  },
  {
   "cell_type": "code",
   "execution_count": 367,
   "metadata": {},
   "outputs": [],
   "source": [
    "#question 4\n",
    "#Assuming a single gender prediction was made for each customer, generate a confusion matrix for predicted gender. What does the confusion matrix tell you about the quality of the predictions?\n",
    "\n",
    "#from sklearn import confusion matrix\n",
    "from sklearn.metrics import confusion_matrix"
   ]
  },
  {
   "cell_type": "code",
   "execution_count": 368,
   "metadata": {},
   "outputs": [
    {
     "data": {
      "text/plain": [
       "array([[3349, 3410],\n",
       "       [1463, 5249]], dtype=int64)"
      ]
     },
     "execution_count": 368,
     "metadata": {},
     "output_type": "execute_result"
    }
   ],
   "source": [
    "confusion_matrix(data['gender'], data['predicted_gender'])"
   ]
  },
  {
   "cell_type": "code",
   "execution_count": 369,
   "metadata": {},
   "outputs": [],
   "source": [
    "#from the above confusion matrix \n",
    "#true positives = 5249 \n",
    "#false positives = 3410\n",
    "#true negatives = 3349\n",
    "#false negatives = 1463\n",
    "#comparitive to true positives and true negatives false positives is relatively high which is causing Type-1 error in the model\n",
    "#Such a model with high false positive rates can be problematic in the long run, so the parameters of the model should be changed to decrease the fp rate.\n",
    "#The model otherwise will make a lot of Type-1 error."
   ]
  },
  {
   "cell_type": "code",
   "execution_count": 370,
   "metadata": {},
   "outputs": [
    {
     "name": "stdout",
     "output_type": "stream",
     "text": [
      "              precision    recall  f1-score   support\n",
      "\n",
      "           0       0.70      0.50      0.58      6759\n",
      "           1       0.61      0.78      0.68      6712\n",
      "\n",
      "    accuracy                           0.64     13471\n",
      "   macro avg       0.65      0.64      0.63     13471\n",
      "weighted avg       0.65      0.64      0.63     13471\n",
      "\n"
     ]
    }
   ],
   "source": [
    "#from classification report we can see precision, recall and f1-score of the model\n",
    "from sklearn.metrics import classification_report\n",
    "print(classification_report(data['gender'], data['predicted_gender']))\n",
    "#precision is in general true positives i.e percentage of your results which are relevant, which is given by TP/TP+FP\n",
    "#recall refers to the percentage of total relevant results correctly classified by your algorithm, which is given by TP/TP+FN\n",
    "#f1 score is the harmonic mean of precision and recall, which is given by 2*((precision*recall)/(precision+recall))\n",
    "#from the results what we can say is that for the gender 0 the precision is 0.70 that means 70% are correct or relevant\n",
    "#similarly for the gender 1 the precision is 0.61 that means 61% are relevant or correct.\n",
    "#recall is 50% for gender 0 that means the algorithm correctly classified only 50%\n",
    "#similarly for the gender 1 the recall is 78% that means the algorithm correctly classified is 78%"
   ]
  },
  {
   "cell_type": "code",
   "execution_count": 371,
   "metadata": {},
   "outputs": [
    {
     "data": {
      "text/plain": [
       "63.825996585257215"
      ]
     },
     "execution_count": 371,
     "metadata": {},
     "output_type": "execute_result"
    }
   ],
   "source": [
    "#accuracy is basically how much correct we are in predicting the results.\n",
    "from sklearn.metrics import accuracy_score\n",
    "score =accuracy_score(data['gender'], data['predicted_gender'])\n",
    "score*100\n",
    "#clearly we can see accuracy is 63.82%, it is basically given by Accuracy: TP+TN/(TP+FP+FN+TN)\n",
    "# from accuracy we can say that we have predicted 63% correctly"
   ]
  },
  {
   "cell_type": "code",
   "execution_count": 372,
   "metadata": {},
   "outputs": [],
   "source": [
    "#According to the question I have also understood in another way I would like to give the results for that approach too."
   ]
  },
  {
   "cell_type": "code",
   "execution_count": 373,
   "metadata": {},
   "outputs": [],
   "source": [
    "#question 4\n",
    "#\"Assuming a single gender prediction was made for each customer\",generate a confusion matrix for predicted gender. What does the confusion matrix tell you about the quality of the predictions?\n",
    "#from this quoted satement I also have this kind of approach in my mind. Please consider two approaches and evaluate."
   ]
  },
  {
   "cell_type": "code",
   "execution_count": 374,
   "metadata": {},
   "outputs": [],
   "source": [
    "#Assuming a single gender predictions for each customer means i was thinking only one gender is made for all customers, so i created a new column named single_gender_prediction and named it 1 \n",
    "data['single_gender_prediction'] = 1"
   ]
  },
  {
   "cell_type": "code",
   "execution_count": 375,
   "metadata": {},
   "outputs": [
    {
     "data": {
      "text/html": [
       "<div>\n",
       "<style scoped>\n",
       "    .dataframe tbody tr th:only-of-type {\n",
       "        vertical-align: middle;\n",
       "    }\n",
       "\n",
       "    .dataframe tbody tr th {\n",
       "        vertical-align: top;\n",
       "    }\n",
       "\n",
       "    .dataframe thead th {\n",
       "        text-align: right;\n",
       "    }\n",
       "</style>\n",
       "<table border=\"1\" class=\"dataframe\">\n",
       "  <thead>\n",
       "    <tr style=\"text-align: right;\">\n",
       "      <th></th>\n",
       "      <th>customer_id</th>\n",
       "      <th>gender</th>\n",
       "      <th>date</th>\n",
       "      <th>value</th>\n",
       "      <th>predicted_gender</th>\n",
       "      <th>order_count</th>\n",
       "      <th>recent_date</th>\n",
       "      <th>single_gender_prediction</th>\n",
       "    </tr>\n",
       "  </thead>\n",
       "  <tbody>\n",
       "    <tr>\n",
       "      <td>0</td>\n",
       "      <td>1000</td>\n",
       "      <td>0</td>\n",
       "      <td>2017-01-01 00:11:00</td>\n",
       "      <td>198.5</td>\n",
       "      <td>1</td>\n",
       "      <td>1</td>\n",
       "      <td>2017-01-01 00:11:00</td>\n",
       "      <td>1</td>\n",
       "    </tr>\n",
       "    <tr>\n",
       "      <td>1</td>\n",
       "      <td>1001</td>\n",
       "      <td>0</td>\n",
       "      <td>2017-01-01 00:29:00</td>\n",
       "      <td>338.0</td>\n",
       "      <td>1</td>\n",
       "      <td>1</td>\n",
       "      <td>2017-01-01 00:29:00</td>\n",
       "      <td>1</td>\n",
       "    </tr>\n",
       "    <tr>\n",
       "      <td>2</td>\n",
       "      <td>1002</td>\n",
       "      <td>1</td>\n",
       "      <td>2017-01-01 01:30:00</td>\n",
       "      <td>733.0</td>\n",
       "      <td>1</td>\n",
       "      <td>3</td>\n",
       "      <td>2017-02-19 21:35:00</td>\n",
       "      <td>1</td>\n",
       "    </tr>\n",
       "    <tr>\n",
       "      <td>3</td>\n",
       "      <td>1003</td>\n",
       "      <td>1</td>\n",
       "      <td>2017-01-01 01:34:00</td>\n",
       "      <td>772.0</td>\n",
       "      <td>1</td>\n",
       "      <td>4</td>\n",
       "      <td>2017-04-26 02:37:00</td>\n",
       "      <td>1</td>\n",
       "    </tr>\n",
       "    <tr>\n",
       "      <td>4</td>\n",
       "      <td>1004</td>\n",
       "      <td>0</td>\n",
       "      <td>2017-01-01 03:11:00</td>\n",
       "      <td>508.0</td>\n",
       "      <td>1</td>\n",
       "      <td>1</td>\n",
       "      <td>2017-01-01 03:11:00</td>\n",
       "      <td>1</td>\n",
       "    </tr>\n",
       "  </tbody>\n",
       "</table>\n",
       "</div>"
      ],
      "text/plain": [
       "   customer_id  gender                date  value  predicted_gender  \\\n",
       "0         1000       0 2017-01-01 00:11:00  198.5                 1   \n",
       "1         1001       0 2017-01-01 00:29:00  338.0                 1   \n",
       "2         1002       1 2017-01-01 01:30:00  733.0                 1   \n",
       "3         1003       1 2017-01-01 01:34:00  772.0                 1   \n",
       "4         1004       0 2017-01-01 03:11:00  508.0                 1   \n",
       "\n",
       "   order_count         recent_date  single_gender_prediction  \n",
       "0            1 2017-01-01 00:11:00                         1  \n",
       "1            1 2017-01-01 00:29:00                         1  \n",
       "2            3 2017-02-19 21:35:00                         1  \n",
       "3            4 2017-04-26 02:37:00                         1  \n",
       "4            1 2017-01-01 03:11:00                         1  "
      ]
     },
     "execution_count": 375,
     "metadata": {},
     "output_type": "execute_result"
    }
   ],
   "source": [
    "data.head()\n",
    "#so here single_gender_prediction is 1 for all customers"
   ]
  },
  {
   "cell_type": "code",
   "execution_count": 376,
   "metadata": {},
   "outputs": [
    {
     "data": {
      "text/plain": [
       "array([[   0, 6759],\n",
       "       [   0, 6712]], dtype=int64)"
      ]
     },
     "execution_count": 376,
     "metadata": {},
     "output_type": "execute_result"
    }
   ],
   "source": [
    "#create a confusion matrix \n",
    "confusion_matrix(data['gender'], data['single_gender_prediction'])"
   ]
  },
  {
   "cell_type": "code",
   "execution_count": 377,
   "metadata": {},
   "outputs": [],
   "source": [
    "#from the above confusion matrix \n",
    "#true positives = 6712 \n",
    "#false positives = 6759\n",
    "#true negatives = 0\n",
    "#false negatives = 0\n",
    "#again it has high false positive rates which is type-1 error in the model, such a high false positives whill cause a problem in future."
   ]
  },
  {
   "cell_type": "code",
   "execution_count": 378,
   "metadata": {},
   "outputs": [
    {
     "name": "stdout",
     "output_type": "stream",
     "text": [
      "              precision    recall  f1-score   support\n",
      "\n",
      "           0       0.00      0.00      0.00      6759\n",
      "           1       0.50      1.00      0.67      6712\n",
      "\n",
      "    accuracy                           0.50     13471\n",
      "   macro avg       0.25      0.50      0.33     13471\n",
      "weighted avg       0.25      0.50      0.33     13471\n",
      "\n"
     ]
    }
   ],
   "source": [
    "#from classification report we can see precision, recall and f1-score of the model\n",
    "from sklearn.metrics import classification_report\n",
    "print(classification_report(data['gender'], data['single_gender_prediction']))\n",
    " #Precision: TP/(TP+FP) = Accuracy = 0.4982 (49.82% precise model) Recall: TP/(TP+FN) = 6712/6712 = 1\n",
    "#The quality of prediction is 50% accurate due to gender column values are not left or right skewed. \n",
    "#Meaning equal number of gender = 0 and gender = 1 values are present. \n",
    "#We can also notice that recall = 1 meaning our precision of classifying genders is less and is biased to capturing only gender = 1 customers. \n",
    "#We captured all gender = 1 customers but also missed out a lot on capturing gender = 0 customers"
   ]
  },
  {
   "cell_type": "code",
   "execution_count": 379,
   "metadata": {},
   "outputs": [
    {
     "data": {
      "text/plain": [
       "49.82555118402494"
      ]
     },
     "execution_count": 379,
     "metadata": {},
     "output_type": "execute_result"
    }
   ],
   "source": [
    "#accuracy is basically how much correct we are in predicting the results.\n",
    "from sklearn.metrics import accuracy_score\n",
    "score =accuracy_score(data['gender'], data['single_gender_prediction'])\n",
    "score*100\n",
    "#clearly we can see accuracy is 49.82%, it is basically given by Accuracy: TP+TN/(TP+FP+FN+TN)\n",
    "# from accuracy we can say that we have predicted 50% correctly"
   ]
  },
  {
   "cell_type": "code",
   "execution_count": 380,
   "metadata": {},
   "outputs": [],
   "source": [
    "#Question 5\n",
    "\n",
    "# Describe one of your favorite tools or techniques and give a small example of how it’s helped you solve a problem. \n",
    "# Limit your answer to one paragraph.\n",
    "\n",
    "# Answer: My favorite tool for Data Analysis and problem solving has always been Python. \n",
    "# Very easy to perform statistical analysis, modelling, cleaning and visualizing the data. \n",
    "# I would like to give an example of how I used Python in Data Lake to give meaning insights to Analytics and Insights team regarding production sales’ and campaigning data (Data Sciene Intern experience at BI).\n",
    "#I have used sklearn library to apply machine learning algorithms to predict the sales, I have also used various statistical libraries to test the stationarity and non-stationarity in the time series analysis before applying arima_model for predicting the accurate sales before the production.\n",
    "# Effective text mining with use of regular expressions. Then model creation along with scikit-learn library gave a visualized display of models, ROC, Confusion Matrix etc. \n",
    "# It was very easy to expalin the insights to executives and create interest to use this tool"
   ]
  },
  {
   "cell_type": "code",
   "execution_count": 381,
   "metadata": {},
   "outputs": [],
   "source": [
    "#Thank you so much for giving this beautiful test I have really enjoyed doing this."
   ]
  }
 ],
 "metadata": {
  "kernelspec": {
   "display_name": "Python 3",
   "language": "python",
   "name": "python3"
  },
  "language_info": {
   "codemirror_mode": {
    "name": "ipython",
    "version": 3
   },
   "file_extension": ".py",
   "mimetype": "text/x-python",
   "name": "python",
   "nbconvert_exporter": "python",
   "pygments_lexer": "ipython3",
   "version": "3.7.4"
  }
 },
 "nbformat": 4,
 "nbformat_minor": 2
}
